{
 "cells": [
  {
   "cell_type": "code",
   "execution_count": null,
   "id": "6af39be4-0bd8-466e-8ac3-85e9348eb13e",
   "metadata": {},
   "outputs": [],
   "source": [
    "import numpy as np\n",
    "import pandas as pd"
   ]
  },
  {
   "cell_type": "code",
   "execution_count": null,
   "id": "f6627ecb-0638-4aaa-a8e6-7d40076ec7d5",
   "metadata": {},
   "outputs": [],
   "source": [
    "train_csv = pd.read_csv(\"/home/nickolas.littlefield/netstore1/unifesp-x-ray-body-part-classifier/train.csv\")\n",
    "train_meta = pd.read_csv(\"/home/nickolas.littlefield/netstore1/unifesp-x-ray-body-part-classifier/dicom_metadata_train.csv\")"
   ]
  },
  {
   "cell_type": "code",
   "execution_count": null,
   "id": "9d10c79d-8fef-4a48-821d-d3f2b970d0e0",
   "metadata": {},
   "outputs": [],
   "source": [
    "# Split multilabel into single label\n",
    "train_csv['Target'] = train_csv['Target'].str.strip()\n",
    "multi_labels = [i for i, target in enumerate(train_csv.Target) if len(target) > 2]\n",
    "len(multi_labels)"
   ]
  },
  {
   "cell_type": "code",
   "execution_count": null,
   "id": "b4c97e49-c210-4db9-a636-3fe36aac8f69",
   "metadata": {},
   "outputs": [],
   "source": [
    "# Create df of corrected labels \n",
    "corrected_labels = []\n",
    "for ml in multi_labels:    \n",
    "    corrected_labels.append([train_csv.loc[ml, 'SOPInstanceUID'], train_csv.loc[ml, 'Target'].split(' ')[0]])"
   ]
  },
  {
   "cell_type": "code",
   "execution_count": null,
   "id": "0b8889cb-f97a-419a-af4a-ec6073e2670f",
   "metadata": {},
   "outputs": [],
   "source": [
    "# Merge corrected labels\n",
    "train_csv = pd.concat([train_csv.drop(train_csv.loc[multi_labels].index),\n",
    "                     pd.DataFrame(corrected_labels, columns=['SOPInstanceUID', 'Target'])], ignore_index=True)\n",
    "train_csv"
   ]
  },
  {
   "cell_type": "code",
   "execution_count": null,
   "id": "c62369cd-0962-4882-816c-980c18bf08c0",
   "metadata": {},
   "outputs": [],
   "source": [
    "# Merge meta data\n",
    "train_csv = train_csv.merge(train_meta, on=\"SOPInstanceUID\")"
   ]
  },
  {
   "cell_type": "code",
   "execution_count": null,
   "id": "b046c91d-8339-4362-a9dd-c3c9e4b6f61b",
   "metadata": {},
   "outputs": [],
   "source": [
    "# Extract fnames and replace with png names\n",
    "img_root = \"/home/nickolas.littlefield/netstore1/unifesp-x-ray-body-part-classifier/train/\" \n",
    "fnames = [img_root + fname.split(\"/\")[-1].replace(\"dcm\", \"png\") for fname in train_csv.fname]"
   ]
  },
  {
   "cell_type": "code",
   "execution_count": null,
   "id": "1df1cbb6-024d-49a3-aea7-618901203220",
   "metadata": {},
   "outputs": [],
   "source": [
    "train_csv[\"fname\"] = fnames"
   ]
  },
  {
   "cell_type": "code",
   "execution_count": null,
   "id": "10b78801-fed1-403a-9491-e809a30fffd7",
   "metadata": {},
   "outputs": [],
   "source": [
    "train_csv.to_csv(\"/home/nickolas.littlefield/netstore1/unifesp-x-ray-body-part-classifier/train_merged.csv\", index=False)"
   ]
  },
  {
   "cell_type": "code",
   "execution_count": null,
   "id": "e85413af-eb67-4965-aa41-6ced965a7c3d",
   "metadata": {},
   "outputs": [],
   "source": [
    "!niv"
   ]
  },
  {
   "cell_type": "code",
   "execution_count": null,
   "id": "4596c365-9ae0-4646-b92c-71920cd0db22",
   "metadata": {},
   "outputs": [],
   "source": []
  }
 ],
 "metadata": {
  "kernelspec": {
   "display_name": "learn2learn",
   "language": "python",
   "name": "few-shot"
  },
  "language_info": {
   "codemirror_mode": {
    "name": "ipython",
    "version": 3
   },
   "file_extension": ".py",
   "mimetype": "text/x-python",
   "name": "python",
   "nbconvert_exporter": "python",
   "pygments_lexer": "ipython3",
   "version": "3.10.11"
  }
 },
 "nbformat": 4,
 "nbformat_minor": 5
}
