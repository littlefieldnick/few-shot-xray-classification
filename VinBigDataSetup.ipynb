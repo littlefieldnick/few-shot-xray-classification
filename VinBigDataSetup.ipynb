{
 "cells": [
  {
   "cell_type": "code",
   "execution_count": null,
   "id": "a5059b26-f3a9-4d68-bfed-cac6f68a9c06",
   "metadata": {},
   "outputs": [],
   "source": [
    "import numpy as np\n",
    "import pandas as pd\n",
    "\n",
    "import os\n",
    "import glob"
   ]
  },
  {
   "cell_type": "code",
   "execution_count": null,
   "id": "576a437a-c567-4de7-af10-341ef0aa89e3",
   "metadata": {},
   "outputs": [],
   "source": [
    "classes = {\n",
    "    \"Aortic enlargement\": 0, \n",
    "    \"Atelectasis\": 1,\n",
    "    \"Calcification\": 2,\n",
    "    \"Cardiomegaly\": 3,\n",
    "    \"Consolidation\": 4,\n",
    "    \"ILD\": 5,\n",
    "    \"Infiltration\": 6, \n",
    "    \"Lung Opacity\": 7,\n",
    "    \"Nodule\": 8,\n",
    "    \"Other lesion\": 9,\n",
    "    \"Pleural effusion\": 10,\n",
    "    \"Pleural thickening\": 11,\n",
    "    \"Pneumothorax\": 12,\n",
    "    \"Pulmonary fibrosis\": 13,\n",
    "    \"No finding\": 14\n",
    "}"
   ]
  },
  {
   "cell_type": "code",
   "execution_count": null,
   "id": "2955ea88-1890-498c-91bc-1f9d334de749",
   "metadata": {},
   "outputs": [],
   "source": [
    "root = \"/home/nickolas.littlefield/netstore1/vinbigdata_meta/\""
   ]
  },
  {
   "cell_type": "code",
   "execution_count": null,
   "id": "0e0dd116-7162-4a23-913e-6b6062f79521",
   "metadata": {},
   "outputs": [],
   "source": [
    "folders = os.listdir(root)"
   ]
  },
  {
   "cell_type": "code",
   "execution_count": null,
   "id": "aa2b10bc-ddb0-430f-a81b-6a2a626ac1d6",
   "metadata": {},
   "outputs": [],
   "source": [
    "!rm -r /home/nickolas.littlefield/netstore1/vinbigdata_meta/.ipynb_checkpoints/"
   ]
  },
  {
   "cell_type": "code",
   "execution_count": null,
   "id": "3b23f5ac-9377-4c65-a62e-8cf1e0962fa4",
   "metadata": {},
   "outputs": [],
   "source": [
    "img_list = []\n",
    "cls_list = []\n",
    "for folder in folders:\n",
    "    imgs = os.listdir(os.path.join(root, folder))\n",
    "    for img in imgs:\n",
    "        img_pth = os.path.join(root, folder, img)\n",
    "        img_list.append(img_pth)\n",
    "    cls_list.extend([classes[folder]]*len(imgs))\n",
    "        "
   ]
  },
  {
   "cell_type": "code",
   "execution_count": null,
   "id": "01a823c3-83a6-4fae-a927-74f8f03217f9",
   "metadata": {},
   "outputs": [],
   "source": []
  },
  {
   "cell_type": "code",
   "execution_count": null,
   "id": "6882e7dc-7fe6-452d-9809-85e3aa1c3533",
   "metadata": {},
   "outputs": [],
   "source": [
    "data = pd.DataFrame({\n",
    "    \"Image\": img_list,\n",
    "    \"Target\": cls_list\n",
    "})"
   ]
  },
  {
   "cell_type": "code",
   "execution_count": null,
   "id": "cc1b4dd2-4e60-4683-bd44-7a12bfd83690",
   "metadata": {},
   "outputs": [],
   "source": [
    "data"
   ]
  },
  {
   "cell_type": "code",
   "execution_count": null,
   "id": "5543199b-072e-4221-aa85-c6fbf90767f6",
   "metadata": {},
   "outputs": [],
   "source": [
    "data.to_csv(\"/home/nickolas.littlefield/netstore1/vinbigdata_meta/testing.csv\", index=False)"
   ]
  },
  {
   "cell_type": "code",
   "execution_count": null,
   "id": "e465fe20-3dde-4db4-b80a-1fb8a067e193",
   "metadata": {},
   "outputs": [],
   "source": []
  }
 ],
 "metadata": {
  "kernelspec": {
   "display_name": "learn2learn",
   "language": "python",
   "name": "few-shot"
  },
  "language_info": {
   "codemirror_mode": {
    "name": "ipython",
    "version": 3
   },
   "file_extension": ".py",
   "mimetype": "text/x-python",
   "name": "python",
   "nbconvert_exporter": "python",
   "pygments_lexer": "ipython3",
   "version": "3.10.11"
  }
 },
 "nbformat": 4,
 "nbformat_minor": 5
}
