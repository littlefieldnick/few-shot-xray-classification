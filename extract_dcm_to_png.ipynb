{
 "cells": [
  {
   "cell_type": "code",
   "execution_count": null,
   "id": "3a4c1680",
   "metadata": {},
   "outputs": [],
   "source": [
    "import numpy as np\n",
    "import pandas as pd\n",
    "\n",
    "import pydicom\n",
    "from pydicom.pixel_data_handlers.util import apply_voi_lut\n",
    "\n",
    "import glob\n",
    "\n",
    "import os\n",
    "\n",
    "from PIL import Image"
   ]
  },
  {
   "cell_type": "code",
   "execution_count": null,
   "id": "f3083525",
   "metadata": {},
   "outputs": [],
   "source": [
    "train_root = \"/Users/nicklittlefield/Downloads/unifesp-x-ray-body-part-classifier/train/train/\"\n",
    "train_csv = pd.read_csv(\"train.csv\")\n",
    "\n",
    "outdir = \"/Users/nicklittlefield/Downloads/unifesp-x-ray-body-part-classifier/train_png\"\n",
    "if not os.path.exists(outdir):\n",
    "    os.mkdir(outdir)\n"
   ]
  },
  {
   "cell_type": "code",
   "execution_count": null,
   "id": "e590c3e0",
   "metadata": {},
   "outputs": [],
   "source": [
    "train_csv"
   ]
  },
  {
   "cell_type": "code",
   "execution_count": null,
   "id": "7015bcd7",
   "metadata": {},
   "outputs": [],
   "source": [
    "def read_xray(path, out_pth, fix_monochrome=True):\n",
    "    dicom = pydicom.read_file(os.path.join(root_dir, file_name))\n",
    "    # VOI LUT (if available by DICOM device) is used to\n",
    "    # transform raw DICOM data to \"human-friendly\" view\n",
    "    if voi_lut:\n",
    "        data = apply_voi_lut(dicom.pixel_array, dicom)\n",
    "    else:\n",
    "        data = dicom.pixel_array\n",
    "        \n",
    "    # depending on this value, X-ray may look inverted - fix that:\n",
    "    if fix_monochrome and dicom.PhotometricInterpretation == \"MONOCHROME1\":\n",
    "        data = np.amax(data) - data\n",
    "    data = data - np.min(data)\n",
    "    data = data / np.max(data)\n",
    "    data = (data * 255).astype(np.uint8)\n",
    "        \n",
    "    img_xray = Image.fromarray(data)\n",
    "    img_sample.save(out_pth + path.split(\"/\")[-1].replace(\".dcm\", \".png\"))\n",
    "    \n",
    "    return out_pth"
   ]
  },
  {
   "cell_type": "code",
   "execution_count": null,
   "id": "3453f1c9",
   "metadata": {},
   "outputs": [],
   "source": [
    "for i, row in train_csv.iterrows():\n",
    "    img_sop = row.SOPInstanceUID\n",
    "    img_pth = list(glob.iglob(train_root + \"**/**/**/*\" + img_sop + \"*.dcm\"))[0]\n",
    "    read_xray(img_pth, outdir)"
   ]
  },
  {
   "cell_type": "code",
   "execution_count": null,
   "id": "f5bc4a43",
   "metadata": {},
   "outputs": [],
   "source": []
  }
 ],
 "metadata": {
  "kernelspec": {
   "display_name": "Python (default)",
   "language": "python",
   "name": "python3"
  },
  "language_info": {
   "codemirror_mode": {
    "name": "ipython",
    "version": 3
   },
   "file_extension": ".py",
   "mimetype": "text/x-python",
   "name": "python",
   "nbconvert_exporter": "python",
   "pygments_lexer": "ipython3",
   "version": "3.8.13"
  }
 },
 "nbformat": 4,
 "nbformat_minor": 5
}
