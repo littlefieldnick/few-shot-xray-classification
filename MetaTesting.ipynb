{
 "cells": [
  {
   "cell_type": "code",
   "execution_count": 1,
   "id": "4bdb40c0",
   "metadata": {},
   "outputs": [],
   "source": [
    "import numpy as np\n",
    "import pandas as pd\n",
    "\n",
    "from tqdm import tqdm\n",
    "\n",
    "\n",
    "import torch \n",
    "import torch.nn as nn\n",
    "import torch.optim\n",
    "from torch.utils.data import DataLoader\n",
    "from torchvision import datasets, transforms\n",
    "\n",
    "import cv2\n",
    "\n",
    "import learn2learn as l2l\n",
    "from learn2learn.data import MetaDataset, FilteredMetaDataset, TaskDataset\n",
    "from learn2learn.data.transforms import NWays, KShots, LoadData, RemapLabels\n"
   ]
  },
  {
   "cell_type": "code",
   "execution_count": 2,
   "id": "c482ae20-2f95-49fd-b2af-92c801818daa",
   "metadata": {},
   "outputs": [
    {
     "name": "stdout",
     "output_type": "stream",
     "text": [
      "CUDA is available!  Training on GPU ...\n"
     ]
    }
   ],
   "source": [
    "# check if CUDA is available\n",
    "train_on_gpu = torch.cuda.is_available()\n",
    "\n",
    "device = 'cpu'\n",
    "if not train_on_gpu:\n",
    "    print('CUDA is not available.  Training on CPU ...')\n",
    "else:\n",
    "    device = 'cuda'\n",
    "    print('CUDA is available!  Training on GPU ...')"
   ]
  },
  {
   "cell_type": "code",
   "execution_count": 3,
   "id": "e4ffa2e7-afad-4739-93fc-2c1f6570b2d6",
   "metadata": {},
   "outputs": [],
   "source": [
    "labels = {\n",
    "    \"Abdomen\": 0,\n",
    "    \"Ankle\": 1,\n",
    "    \"Cervical Spine\": 2,\n",
    "    \"Chest\": 3,\n",
    "    \"Clavicles\": 4,\n",
    "    \"Elbow\": 5,\n",
    "    \"Feet\": 6,\n",
    "    \"Finger\": 7,\n",
    "    \"Forearm\": 8,\n",
    "    \"Hand\": 9,\n",
    "    \"Hip\": 10, \n",
    "    \"Knee\": 11,\n",
    "    \"Lower Leg\": 12,\n",
    "    \"Lumbar Spine\": 13,\n",
    "    \"Others\": 14,\n",
    "    \"Pelvis\": 15,\n",
    "    \"Shoulder\": 16,\n",
    "    \"Sinus\": 17,\n",
    "    \"Skull\": 18,\n",
    "    \"Thigh\": 19,\n",
    "    \"Thoracic Spine\": 20,\n",
    "    \"Wrist\": 21\n",
    "}\n",
    "\n",
    "\n",
    "class XRayDataset(torch.utils.data.Dataset):\n",
    "    # Dataset for Leap Motion data\n",
    "    def __init__(self, csv_file, file_col, lbl_col, text2lbl, transforms=None):\n",
    "        \"\"\"\n",
    "        Initialize Dataset\n",
    "\n",
    "        params:\n",
    "          - csv_file: Path to CSV\n",
    "          - file_col: Column corresponding to file name\n",
    "          - lbl_col: Column corresponding to label column\n",
    "          - text2lbl: Numerical representation of labels\n",
    "          - transforms: Transforms to apply to imgs\n",
    "        \"\"\"\n",
    "\n",
    "        self.csv = pd.read_csv(csv_file)\n",
    "        self.file_col = file_col\n",
    "        self.lbl_col = lbl_col\n",
    "        self.labels = text2lbl\n",
    "        self.transforms = transforms\n",
    "\n",
    "    def __len__(self):\n",
    "        \"\"\"\n",
    "        Returns the length of dataset\n",
    "        \"\"\"\n",
    "\n",
    "        return len(self.csv)\n",
    "\n",
    "    def __getitem__(self, idx):\n",
    "        \"\"\"\n",
    "        Get item from dataset\n",
    "\n",
    "        params:\n",
    "          - idx: Index of data record to get.\n",
    "        \"\"\"\n",
    "\n",
    "        img = cv2.imread(self.csv.loc[idx][self.file_col])\n",
    "\n",
    "        img = img.astype(np.float).transpose(2, 1, 0)\n",
    "        label = self.csv.loc[idx][self.lbl_col]\n",
    "\n",
    "        # Convert to tensor and apply transforms\n",
    "        img = torch.from_numpy(img)\n",
    "        if self.transforms:\n",
    "            img = self.transforms(img)\n",
    "\n",
    "        sample = {\"img\": img, \"label\": label}\n",
    "        return img, label"
   ]
  },
  {
   "cell_type": "code",
   "execution_count": 4,
   "id": "3d7dc972-01d4-4c31-b94f-ae34aaca4ba9",
   "metadata": {},
   "outputs": [],
   "source": [
    "data = pd.read_csv(\"/home/nickolas.littlefield/netstore1/unifesp-x-ray-body-part-classifier/train_merged.csv\")\n",
    "# valid =  np.random.choice(class_labels, size=6, replace=False)\n",
    "# test = np.random.choice(list(set(class_labels).difference(valid)), size=6, replace=False)"
   ]
  },
  {
   "cell_type": "code",
   "execution_count": 5,
   "id": "4c52995d-57fd-4508-ada2-deba61538842",
   "metadata": {},
   "outputs": [],
   "source": [
    "test = np.array([16, 10,  2,  0, 13])"
   ]
  },
  {
   "cell_type": "code",
   "execution_count": null,
   "id": "ef565161-0837-4574-b88d-0c58f1b6d85f",
   "metadata": {},
   "outputs": [],
   "source": []
  },
  {
   "cell_type": "code",
   "execution_count": 6,
   "id": "613e59b4-4ada-44ab-bcc7-b6df5b74ae0f",
   "metadata": {},
   "outputs": [
    {
     "name": "stderr",
     "output_type": "stream",
     "text": [
      "/tmp/ipykernel_1310192/1417516339.py:64: DeprecationWarning: `np.float` is a deprecated alias for the builtin `float`. To silence this warning, use `float` by itself. Doing this will not modify any behavior and is safe. If you specifically wanted the numpy scalar type, use `np.float64` here.\n",
      "Deprecated in NumPy 1.20; for more details and guidance: https://numpy.org/devdocs/release/1.20.0-notes.html#deprecations\n",
      "  img = img.astype(np.float).transpose(2, 1, 0)\n"
     ]
    }
   ],
   "source": [
    "import learn2learn as l2l\n",
    "from learn2learn.data import MetaDataset, FilteredMetaDataset, TaskDataset\n",
    "\n",
    "img_size = 224\n",
    "transforms_list = transforms.Compose([transforms.Resize((img_size, img_size))])\n",
    "\n",
    "\n",
    "test_meta = FilteredMetaDataset(\n",
    "    XRayDataset(\"/home/nickolas.littlefield/netstore1/unifesp-x-ray-body-part-classifier/train_merged.csv\", \n",
    "                \"fname\", \"Target\", labels, transforms=transforms_list), test\n",
    ")"
   ]
  },
  {
   "cell_type": "code",
   "execution_count": null,
   "id": "e9a7d824-213c-4808-9e90-f33cf46dbef1",
   "metadata": {},
   "outputs": [],
   "source": []
  },
  {
   "cell_type": "code",
   "execution_count": 7,
   "id": "8bc18dcd-02e1-4f4b-b101-14c27102e839",
   "metadata": {},
   "outputs": [],
   "source": [
    "nway=5\n",
    "shot=1\n",
    "\n",
    "test_query = shot\n",
    "test_transforms = [\n",
    "    NWays(test_meta, nway),\n",
    "    KShots(test_meta, test_query + shot),\n",
    "    LoadData(test_meta),\n",
    "    RemapLabels(test_meta),\n",
    "]\n",
    "test_tasks = l2l.data.TaskDataset(test_meta, task_transforms=test_transforms, num_tasks=1000)"
   ]
  },
  {
   "cell_type": "code",
   "execution_count": null,
   "id": "c0caeb7b-f2a3-4a29-b52c-7a749572959f",
   "metadata": {},
   "outputs": [],
   "source": []
  },
  {
   "cell_type": "code",
   "execution_count": 8,
   "id": "5b38dd8f-993e-4d9a-9380-37f1647617ae",
   "metadata": {},
   "outputs": [],
   "source": [
    "class PrototypicalNetwork(nn.Module):\n",
    "\n",
    "    def __init__(self, x_dim, hid_dim, z_dim):\n",
    "        super().__init__()\n",
    "        self.encoder = nn.Sequential(\n",
    "            self.__conv_block(x_dim, hid_dim),\n",
    "            self.__conv_block(hid_dim, hid_dim),\n",
    "            self.__conv_block(hid_dim, hid_dim),\n",
    "            self.__conv_block(hid_dim, z_dim)\n",
    "        )\n",
    "\n",
    "    def __conv_block(self, in_channels, out_channels):\n",
    "        return nn.Sequential(\n",
    "            nn.Conv2d(in_channels, out_channels, 3, padding=1),\n",
    "            nn.BatchNorm2d(out_channels),\n",
    "            nn.ReLU(),\n",
    "            nn.MaxPool2d(2)\n",
    "        )\n",
    "    \n",
    "    def forward(self, x):\n",
    "        x = self.encoder(x)\n",
    "        return x.view(x.size(0), -1)\n"
   ]
  },
  {
   "cell_type": "code",
   "execution_count": 9,
   "id": "dc3b3163-326d-4b80-aa76-52c356be7678",
   "metadata": {},
   "outputs": [],
   "source": [
    "def pairwise_distances_logits(a, b):\n",
    "    n = a.shape[0]\n",
    "    m = b.shape[0]\n",
    "    logits = -((a.unsqueeze(1).expand(n, m, -1) -\n",
    "                b.unsqueeze(0).expand(n, m, -1))**2).sum(dim=2)\n",
    "    return logits\n",
    "\n",
    "\n",
    "def accuracy(predictions, targets):\n",
    "    predictions = predictions.argmax(dim=1).view(targets.shape)\n",
    "    return (predictions == targets).sum().float() / targets.size(0)"
   ]
  },
  {
   "cell_type": "code",
   "execution_count": 10,
   "id": "e087c025-8626-43a3-8b17-220440552055",
   "metadata": {},
   "outputs": [],
   "source": [
    "import torch.functional as F\n",
    "def fast_adapt(model, batch, ways, shot, query_num, metric=None, device=None):\n",
    "    if metric is None:\n",
    "        metric = pairwise_distances_logits\n",
    "    if device is None:\n",
    "        device = model.device()\n",
    "    data, labels = batch\n",
    "    data = data.to(device)\n",
    "    labels = labels.to(device)\n",
    "    n_items = shot * ways\n",
    "\n",
    "    # Sort data samples by labels\n",
    "    # TODO: Can this be replaced by ConsecutiveLabels ?\n",
    "    sort = torch.sort(labels)\n",
    "    data = data.squeeze(0)[sort.indices].squeeze(0)\n",
    "    labels = labels.squeeze(0)[sort.indices].squeeze(0)\n",
    "\n",
    "    # Compute support and query embeddings\n",
    "    embeddings = model(data.float())\n",
    "    support_indices = np.zeros(data.size(0), dtype=bool)\n",
    "    selection = np.arange(ways) * (shot + query_num)\n",
    "    for offset in range(shot):\n",
    "        support_indices[selection + offset] = True\n",
    "    query_indices = torch.from_numpy(~support_indices)\n",
    "    support_indices = torch.from_numpy(support_indices)\n",
    "    support = embeddings[support_indices].float()\n",
    "    support = support.reshape(ways, shot, -1).mean(dim=1)\n",
    "    query = embeddings[query_indices].float()\n",
    "    labels = labels[query_indices].long()\n",
    "\n",
    "    logits = pairwise_distances_logits(query, support)\n",
    "    loss = nn.CrossEntropyLoss()(logits, labels)\n",
    "    acc = accuracy(logits, labels)\n",
    "    return loss, acc\n"
   ]
  },
  {
   "cell_type": "code",
   "execution_count": 11,
   "id": "11fb950f-d146-4615-8677-eab8df5a8672",
   "metadata": {},
   "outputs": [],
   "source": [
    "test_loader = DataLoader(test_tasks, shuffle=True)\n",
    "model = torch.load(\"xray_proto_1shot_5-4-2023.pkl\")"
   ]
  },
  {
   "cell_type": "code",
   "execution_count": 12,
   "id": "11a31195-601c-46d3-8d28-b459bcfc2daf",
   "metadata": {
    "tags": []
   },
   "outputs": [
    {
     "name": "stderr",
     "output_type": "stream",
     "text": [
      "  0%|          | 0/1000 [00:00<?, ?it/s]/tmp/ipykernel_1310192/1417516339.py:64: DeprecationWarning: `np.float` is a deprecated alias for the builtin `float`. To silence this warning, use `float` by itself. Doing this will not modify any behavior and is safe. If you specifically wanted the numpy scalar type, use `np.float64` here.\n",
      "Deprecated in NumPy 1.20; for more details and guidance: https://numpy.org/devdocs/release/1.20.0-notes.html#deprecations\n",
      "  img = img.astype(np.float).transpose(2, 1, 0)\n",
      "100%|██████████| 1000/1000 [19:28<00:00,  1.17s/it]\n"
     ]
    }
   ],
   "source": [
    "accuracies = []\n",
    "\n",
    "for batch in tqdm(test_loader):\n",
    "    loss, acc = fast_adapt(model,\n",
    "                           batch,\n",
    "                           nway,\n",
    "                           shot,\n",
    "                           test_query,\n",
    "                           metric=pairwise_distances_logits,\n",
    "                           device=device)\n",
    "   \n",
    "    accuracies.append(acc)"
   ]
  },
  {
   "cell_type": "code",
   "execution_count": 13,
   "id": "ef9c93cb-5093-4424-a0be-4f7c3dc67f16",
   "metadata": {},
   "outputs": [
    {
     "data": {
      "text/plain": [
       "tensor(0.3590)"
      ]
     },
     "execution_count": 13,
     "metadata": {},
     "output_type": "execute_result"
    }
   ],
   "source": [
    "torch.tensor(accuracies).mean()"
   ]
  },
  {
   "cell_type": "code",
   "execution_count": 14,
   "id": "5ac64652-e5db-4e71-b2e8-73af1b9fa872",
   "metadata": {},
   "outputs": [
    {
     "data": {
      "text/plain": [
       "tensor(0.2057)"
      ]
     },
     "execution_count": 14,
     "metadata": {},
     "output_type": "execute_result"
    }
   ],
   "source": [
    "torch.tensor(accuracies).std()"
   ]
  },
  {
   "cell_type": "code",
   "execution_count": 15,
   "id": "6d6f7f92-df90-496d-9703-abc283f77c56",
   "metadata": {},
   "outputs": [
    {
     "name": "stderr",
     "output_type": "stream",
     "text": [
      "/tmp/ipykernel_1310192/1417516339.py:64: DeprecationWarning: `np.float` is a deprecated alias for the builtin `float`. To silence this warning, use `float` by itself. Doing this will not modify any behavior and is safe. If you specifically wanted the numpy scalar type, use `np.float64` here.\n",
      "Deprecated in NumPy 1.20; for more details and guidance: https://numpy.org/devdocs/release/1.20.0-notes.html#deprecations\n",
      "  img = img.astype(np.float).transpose(2, 1, 0)\n"
     ]
    }
   ],
   "source": [
    "X, y = test_tasks.sample()"
   ]
  },
  {
   "cell_type": "code",
   "execution_count": 16,
   "id": "d6bb8829-36d1-4835-8f85-c668286ce3f0",
   "metadata": {},
   "outputs": [
    {
     "data": {
      "text/plain": [
       "tensor([4, 4, 0, 0, 2, 2, 1, 1, 3, 3])"
      ]
     },
     "execution_count": 16,
     "metadata": {},
     "output_type": "execute_result"
    }
   ],
   "source": [
    "y"
   ]
  },
  {
   "cell_type": "code",
   "execution_count": 17,
   "id": "ac23dd12-e7de-405b-ac55-73c3e08d14c6",
   "metadata": {},
   "outputs": [],
   "source": [
    "nway=5\n",
    "shot=3\n",
    "\n",
    "test_query = shot\n",
    "test_transforms = [\n",
    "    NWays(test_meta, nway),\n",
    "    KShots(test_meta, test_query + shot),\n",
    "    LoadData(test_meta),\n",
    "    RemapLabels(test_meta),\n",
    "]\n",
    "test_tasks = l2l.data.TaskDataset(test_meta, task_transforms=test_transforms, num_tasks=1000)"
   ]
  },
  {
   "cell_type": "code",
   "execution_count": 18,
   "id": "ec3921a7-73b4-408f-a2d4-64280bbda6c9",
   "metadata": {},
   "outputs": [],
   "source": [
    "test_loader = DataLoader(test_tasks, shuffle=True)\n",
    "model = torch.load(\"xray_proto_3shot_5-4-2023.pkl\")"
   ]
  },
  {
   "cell_type": "code",
   "execution_count": 19,
   "id": "e7b5e2b9-93d1-48b8-870e-9bd0a6e401f6",
   "metadata": {},
   "outputs": [
    {
     "name": "stderr",
     "output_type": "stream",
     "text": [
      "  0%|          | 0/1000 [00:00<?, ?it/s]/tmp/ipykernel_1310192/1417516339.py:64: DeprecationWarning: `np.float` is a deprecated alias for the builtin `float`. To silence this warning, use `float` by itself. Doing this will not modify any behavior and is safe. If you specifically wanted the numpy scalar type, use `np.float64` here.\n",
      "Deprecated in NumPy 1.20; for more details and guidance: https://numpy.org/devdocs/release/1.20.0-notes.html#deprecations\n",
      "  img = img.astype(np.float).transpose(2, 1, 0)\n",
      "100%|██████████| 1000/1000 [57:55<00:00,  3.48s/it]\n"
     ]
    }
   ],
   "source": [
    "accuracies = []\n",
    "\n",
    "for batch in tqdm(test_loader):\n",
    "    loss, acc = fast_adapt(model,\n",
    "                           batch,\n",
    "                           nway,\n",
    "                           shot,\n",
    "                           test_query,\n",
    "                           metric=pairwise_distances_logits,\n",
    "                           device=device)\n",
    "   \n",
    "    accuracies.append(acc)"
   ]
  },
  {
   "cell_type": "code",
   "execution_count": 20,
   "id": "7163ad27-b560-455b-a7d9-9d2c5b19f3d6",
   "metadata": {},
   "outputs": [
    {
     "data": {
      "text/plain": [
       "tensor(0.4835)"
      ]
     },
     "execution_count": 20,
     "metadata": {},
     "output_type": "execute_result"
    }
   ],
   "source": [
    "torch.tensor(accuracies).mean()"
   ]
  },
  {
   "cell_type": "code",
   "execution_count": 21,
   "id": "9598ab24-ae6b-4f4b-a69c-c6d25e775eb6",
   "metadata": {},
   "outputs": [
    {
     "data": {
      "text/plain": [
       "tensor(0.1322)"
      ]
     },
     "execution_count": 21,
     "metadata": {},
     "output_type": "execute_result"
    }
   ],
   "source": [
    "torch.tensor(accuracies).std()"
   ]
  },
  {
   "cell_type": "code",
   "execution_count": 22,
   "id": "cd25e3d8-1f9f-4340-a7af-cb6e8974f426",
   "metadata": {},
   "outputs": [],
   "source": [
    "nway=5\n",
    "shot=5\n",
    "\n",
    "test_query = shot\n",
    "test_transforms = [\n",
    "    NWays(test_meta, nway),\n",
    "    KShots(test_meta, test_query + shot),\n",
    "    LoadData(test_meta),\n",
    "    RemapLabels(test_meta),\n",
    "]\n",
    "test_tasks = l2l.data.TaskDataset(test_meta, task_transforms=test_transforms, num_tasks=1000)"
   ]
  },
  {
   "cell_type": "code",
   "execution_count": 23,
   "id": "39e3b00e-f8ce-40f2-a9e5-0931e2b9d0e1",
   "metadata": {},
   "outputs": [],
   "source": [
    "test_loader = DataLoader(test_tasks, shuffle=True)\n",
    "model = torch.load(\"xray_proto_5shot_5-4-2023.pkl\")"
   ]
  },
  {
   "cell_type": "code",
   "execution_count": 24,
   "id": "01313e03-ec89-456e-804d-56fde967bdd3",
   "metadata": {},
   "outputs": [
    {
     "name": "stderr",
     "output_type": "stream",
     "text": [
      "  0%|          | 0/1000 [00:00<?, ?it/s]/tmp/ipykernel_1310192/1417516339.py:64: DeprecationWarning: `np.float` is a deprecated alias for the builtin `float`. To silence this warning, use `float` by itself. Doing this will not modify any behavior and is safe. If you specifically wanted the numpy scalar type, use `np.float64` here.\n",
      "Deprecated in NumPy 1.20; for more details and guidance: https://numpy.org/devdocs/release/1.20.0-notes.html#deprecations\n",
      "  img = img.astype(np.float).transpose(2, 1, 0)\n",
      "100%|██████████| 1000/1000 [1:37:28<00:00,  5.85s/it]\n"
     ]
    }
   ],
   "source": [
    "accuracies = []\n",
    "\n",
    "for batch in tqdm(test_loader):\n",
    "    loss, acc = fast_adapt(model,\n",
    "                           batch,\n",
    "                           nway,\n",
    "                           shot,\n",
    "                           test_query,\n",
    "                           metric=pairwise_distances_logits,\n",
    "                           device=device)\n",
    "   \n",
    "    accuracies.append(acc)"
   ]
  },
  {
   "cell_type": "code",
   "execution_count": 25,
   "id": "d009312c-a455-4b80-8b9a-de45bb877da1",
   "metadata": {},
   "outputs": [
    {
     "data": {
      "text/plain": [
       "(array([ 0,  1,  2,  3,  4,  5,  6,  7,  8,  9, 10, 11, 12, 13, 14, 15, 16,\n",
       "        17, 18, 19, 20, 21]),\n",
       " array([ 92,  54,  81, 727,   9,  25,  70,  16,  13,  73,  25, 103,  19,\n",
       "         84, 120,  69,  40,  23,  10,   7,  15,  63]))"
      ]
     },
     "execution_count": 25,
     "metadata": {},
     "output_type": "execute_result"
    }
   ],
   "source": [
    "np.unique(data.Target, return_counts=True)"
   ]
  },
  {
   "cell_type": "code",
   "execution_count": 26,
   "id": "5596926b-c832-4a97-89ec-cf48993ca424",
   "metadata": {},
   "outputs": [
    {
     "data": {
      "text/plain": [
       "tensor(0.6152)"
      ]
     },
     "execution_count": 26,
     "metadata": {},
     "output_type": "execute_result"
    }
   ],
   "source": [
    "torch.tensor(accuracies).mean()"
   ]
  },
  {
   "cell_type": "code",
   "execution_count": 27,
   "id": "069209b1-1015-4bca-87a3-542510a5cdbe",
   "metadata": {},
   "outputs": [
    {
     "data": {
      "text/plain": [
       "tensor(0.0994)"
      ]
     },
     "execution_count": 27,
     "metadata": {},
     "output_type": "execute_result"
    }
   ],
   "source": [
    "torch.tensor(accuracies).std()"
   ]
  },
  {
   "cell_type": "code",
   "execution_count": null,
   "id": "4b6880d8-a90d-4f86-aed4-9058284b77e7",
   "metadata": {},
   "outputs": [],
   "source": []
  }
 ],
 "metadata": {
  "kernelspec": {
   "display_name": "learn2learn",
   "language": "python",
   "name": "few-shot"
  },
  "language_info": {
   "codemirror_mode": {
    "name": "ipython",
    "version": 3
   },
   "file_extension": ".py",
   "mimetype": "text/x-python",
   "name": "python",
   "nbconvert_exporter": "python",
   "pygments_lexer": "ipython3",
   "version": "3.10.11"
  }
 },
 "nbformat": 4,
 "nbformat_minor": 5
}
