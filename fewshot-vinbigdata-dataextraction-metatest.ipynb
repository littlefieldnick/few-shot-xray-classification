{
 "cells": [
  {
   "cell_type": "code",
   "execution_count": 1,
   "id": "f5cd53f5",
   "metadata": {
    "_cell_guid": "b1076dfc-b9ad-4769-8c92-a6c4dae69d19",
    "_uuid": "8f2839f25d086af736a60e9eeb907d3b93b6e0e5",
    "execution": {
     "iopub.execute_input": "2023-05-03T15:27:16.290081Z",
     "iopub.status.busy": "2023-05-03T15:27:16.289590Z",
     "iopub.status.idle": "2023-05-03T15:27:17.341100Z",
     "shell.execute_reply": "2023-05-03T15:27:17.340077Z"
    },
    "papermill": {
     "duration": 1.059983,
     "end_time": "2023-05-03T15:27:17.343774",
     "exception": false,
     "start_time": "2023-05-03T15:27:16.283791",
     "status": "completed"
    },
    "tags": []
   },
   "outputs": [
    {
     "name": "stderr",
     "output_type": "stream",
     "text": [
      "/opt/conda/lib/python3.10/site-packages/scipy/__init__.py:146: UserWarning: A NumPy version >=1.16.5 and <1.23.0 is required for this version of SciPy (detected version 1.23.5\n",
      "  warnings.warn(f\"A NumPy version >={np_minversion} and <{np_maxversion}\"\n"
     ]
    }
   ],
   "source": [
    "# This Python 3 environment comes with many helpful analytics libraries installed\n",
    "# It is defined by the kaggle/python Docker image: https://github.com/kaggle/docker-python\n",
    "# For example, here's several helpful packages to load\n",
    "\n",
    "import numpy as np # linear algebra\n",
    "import pandas as pd # data processing, CSV file I/O (e.g. pd.read_csv)\n",
    "\n",
    "# Input data files are available in the read-only \"../input/\" directory\n",
    "# For example, running this (by clicking run or pressing Shift+Enter) will list all files under the input directory\n",
    "\n",
    "import os\n",
    "import pydicom\n",
    "from glob import glob\n",
    "from tqdm.notebook import tqdm\n",
    "from pydicom.pixel_data_handlers.util import apply_voi_lut\n",
    "import matplotlib.pyplot as plt\n",
    "from skimage import exposure\n",
    "from PIL import Image\n",
    "import cv2\n",
    "import warnings\n",
    "warnings.filterwarnings('ignore')\n",
    "\n",
    "# for dirname, _, filenames in os.walk('/kaggle/input'):\n",
    "#     for filename in filenames:\n",
    "#         print(os.path.join(dirname, filename))\n",
    "\n",
    "# You can write up to 20GB to the current directory (/kaggle/working/) that gets preserved as output when you create a version using \"Save & Run All\" \n",
    "# You can also write temporary files to /kaggle/temp/, but they won't be saved outside of the current session"
   ]
  },
  {
   "cell_type": "code",
   "execution_count": 2,
   "id": "b23d14b8",
   "metadata": {
    "execution": {
     "iopub.execute_input": "2023-05-03T15:27:17.353732Z",
     "iopub.status.busy": "2023-05-03T15:27:17.352841Z",
     "iopub.status.idle": "2023-05-03T15:27:17.360752Z",
     "shell.execute_reply": "2023-05-03T15:27:17.359922Z"
    },
    "papermill": {
     "duration": 0.015613,
     "end_time": "2023-05-03T15:27:17.363114",
     "exception": false,
     "start_time": "2023-05-03T15:27:17.347501",
     "status": "completed"
    },
    "tags": []
   },
   "outputs": [],
   "source": [
    "def dicom2array(root_dir, file_name, out_pth, voi_lut=True, fix_monochrome=True):\n",
    "    dicom = pydicom.read_file(os.path.join(root_dir, file_name))\n",
    "    # VOI LUT (if available by DICOM device) is used to\n",
    "    # transform raw DICOM data to \"human-friendly\" view\n",
    "    if voi_lut:\n",
    "        data = apply_voi_lut(dicom.pixel_array, dicom)\n",
    "    else:\n",
    "        data = dicom.pixel_array\n",
    "    # depending on this value, X-ray may look inverted - fix that:\n",
    "    if fix_monochrome and dicom.PhotometricInterpretation == \"MONOCHROME1\":\n",
    "        data = np.amax(data) - data\n",
    "    data = data - np.min(data)\n",
    "    data = data / np.max(data)\n",
    "    data = (data * 255).astype(np.uint8)\n",
    "    \n",
    "    im = Image.fromarray(data)\n",
    "    \n",
    "    out_file_name = file_name.replace(\".dicom\", \".png\")\n",
    "    new_path = f\"{out_pth}/{out_file_name}\"\n",
    "    im.save(new_path)\n",
    "    return data"
   ]
  },
  {
   "cell_type": "code",
   "execution_count": 3,
   "id": "69f2620e",
   "metadata": {
    "execution": {
     "iopub.execute_input": "2023-05-03T15:27:17.371624Z",
     "iopub.status.busy": "2023-05-03T15:27:17.370945Z",
     "iopub.status.idle": "2023-05-03T15:27:17.584328Z",
     "shell.execute_reply": "2023-05-03T15:27:17.583365Z"
    },
    "papermill": {
     "duration": 0.220565,
     "end_time": "2023-05-03T15:27:17.586881",
     "exception": false,
     "start_time": "2023-05-03T15:27:17.366316",
     "status": "completed"
    },
    "tags": []
   },
   "outputs": [],
   "source": [
    "data = pd.read_csv(\"/kaggle/input/vinbigdata-chest-xray-abnormalities-detection/train.csv\")"
   ]
  },
  {
   "cell_type": "code",
   "execution_count": 4,
   "id": "010cbc91",
   "metadata": {
    "execution": {
     "iopub.execute_input": "2023-05-03T15:27:17.595231Z",
     "iopub.status.busy": "2023-05-03T15:27:17.594507Z",
     "iopub.status.idle": "2023-05-03T15:27:17.636177Z",
     "shell.execute_reply": "2023-05-03T15:27:17.634840Z"
    },
    "papermill": {
     "duration": 0.048517,
     "end_time": "2023-05-03T15:27:17.638617",
     "exception": false,
     "start_time": "2023-05-03T15:27:17.590100",
     "status": "completed"
    },
    "tags": []
   },
   "outputs": [
    {
     "data": {
      "text/html": [
       "<div>\n",
       "<style scoped>\n",
       "    .dataframe tbody tr th:only-of-type {\n",
       "        vertical-align: middle;\n",
       "    }\n",
       "\n",
       "    .dataframe tbody tr th {\n",
       "        vertical-align: top;\n",
       "    }\n",
       "\n",
       "    .dataframe thead th {\n",
       "        text-align: right;\n",
       "    }\n",
       "</style>\n",
       "<table border=\"1\" class=\"dataframe\">\n",
       "  <thead>\n",
       "    <tr style=\"text-align: right;\">\n",
       "      <th></th>\n",
       "      <th>image_id</th>\n",
       "      <th>class_name</th>\n",
       "      <th>class_id</th>\n",
       "      <th>rad_id</th>\n",
       "      <th>x_min</th>\n",
       "      <th>y_min</th>\n",
       "      <th>x_max</th>\n",
       "      <th>y_max</th>\n",
       "    </tr>\n",
       "  </thead>\n",
       "  <tbody>\n",
       "    <tr>\n",
       "      <th>0</th>\n",
       "      <td>50a418190bc3fb1ef1633bf9678929b3</td>\n",
       "      <td>No finding</td>\n",
       "      <td>14</td>\n",
       "      <td>R11</td>\n",
       "      <td>NaN</td>\n",
       "      <td>NaN</td>\n",
       "      <td>NaN</td>\n",
       "      <td>NaN</td>\n",
       "    </tr>\n",
       "    <tr>\n",
       "      <th>1</th>\n",
       "      <td>21a10246a5ec7af151081d0cd6d65dc9</td>\n",
       "      <td>No finding</td>\n",
       "      <td>14</td>\n",
       "      <td>R7</td>\n",
       "      <td>NaN</td>\n",
       "      <td>NaN</td>\n",
       "      <td>NaN</td>\n",
       "      <td>NaN</td>\n",
       "    </tr>\n",
       "    <tr>\n",
       "      <th>2</th>\n",
       "      <td>9a5094b2563a1ef3ff50dc5c7ff71345</td>\n",
       "      <td>Cardiomegaly</td>\n",
       "      <td>3</td>\n",
       "      <td>R10</td>\n",
       "      <td>691.0</td>\n",
       "      <td>1375.0</td>\n",
       "      <td>1653.0</td>\n",
       "      <td>1831.0</td>\n",
       "    </tr>\n",
       "    <tr>\n",
       "      <th>3</th>\n",
       "      <td>051132a778e61a86eb147c7c6f564dfe</td>\n",
       "      <td>Aortic enlargement</td>\n",
       "      <td>0</td>\n",
       "      <td>R10</td>\n",
       "      <td>1264.0</td>\n",
       "      <td>743.0</td>\n",
       "      <td>1611.0</td>\n",
       "      <td>1019.0</td>\n",
       "    </tr>\n",
       "    <tr>\n",
       "      <th>4</th>\n",
       "      <td>063319de25ce7edb9b1c6b8881290140</td>\n",
       "      <td>No finding</td>\n",
       "      <td>14</td>\n",
       "      <td>R10</td>\n",
       "      <td>NaN</td>\n",
       "      <td>NaN</td>\n",
       "      <td>NaN</td>\n",
       "      <td>NaN</td>\n",
       "    </tr>\n",
       "    <tr>\n",
       "      <th>...</th>\n",
       "      <td>...</td>\n",
       "      <td>...</td>\n",
       "      <td>...</td>\n",
       "      <td>...</td>\n",
       "      <td>...</td>\n",
       "      <td>...</td>\n",
       "      <td>...</td>\n",
       "      <td>...</td>\n",
       "    </tr>\n",
       "    <tr>\n",
       "      <th>67909</th>\n",
       "      <td>936fd5cff1c058d39817a08f58b72cae</td>\n",
       "      <td>No finding</td>\n",
       "      <td>14</td>\n",
       "      <td>R1</td>\n",
       "      <td>NaN</td>\n",
       "      <td>NaN</td>\n",
       "      <td>NaN</td>\n",
       "      <td>NaN</td>\n",
       "    </tr>\n",
       "    <tr>\n",
       "      <th>67910</th>\n",
       "      <td>ca7e72954550eeb610fe22bf0244b7fa</td>\n",
       "      <td>No finding</td>\n",
       "      <td>14</td>\n",
       "      <td>R1</td>\n",
       "      <td>NaN</td>\n",
       "      <td>NaN</td>\n",
       "      <td>NaN</td>\n",
       "      <td>NaN</td>\n",
       "    </tr>\n",
       "    <tr>\n",
       "      <th>67911</th>\n",
       "      <td>aa17d5312a0fb4a2939436abca7f9579</td>\n",
       "      <td>No finding</td>\n",
       "      <td>14</td>\n",
       "      <td>R8</td>\n",
       "      <td>NaN</td>\n",
       "      <td>NaN</td>\n",
       "      <td>NaN</td>\n",
       "      <td>NaN</td>\n",
       "    </tr>\n",
       "    <tr>\n",
       "      <th>67912</th>\n",
       "      <td>4b56bc6d22b192f075f13231419dfcc8</td>\n",
       "      <td>Cardiomegaly</td>\n",
       "      <td>3</td>\n",
       "      <td>R8</td>\n",
       "      <td>771.0</td>\n",
       "      <td>979.0</td>\n",
       "      <td>1680.0</td>\n",
       "      <td>1311.0</td>\n",
       "    </tr>\n",
       "    <tr>\n",
       "      <th>67913</th>\n",
       "      <td>5e272e3adbdaafb07a7e84a9e62b1a4c</td>\n",
       "      <td>No finding</td>\n",
       "      <td>14</td>\n",
       "      <td>R16</td>\n",
       "      <td>NaN</td>\n",
       "      <td>NaN</td>\n",
       "      <td>NaN</td>\n",
       "      <td>NaN</td>\n",
       "    </tr>\n",
       "  </tbody>\n",
       "</table>\n",
       "<p>67914 rows × 8 columns</p>\n",
       "</div>"
      ],
      "text/plain": [
       "                               image_id          class_name  class_id rad_id  \\\n",
       "0      50a418190bc3fb1ef1633bf9678929b3          No finding        14    R11   \n",
       "1      21a10246a5ec7af151081d0cd6d65dc9          No finding        14     R7   \n",
       "2      9a5094b2563a1ef3ff50dc5c7ff71345        Cardiomegaly         3    R10   \n",
       "3      051132a778e61a86eb147c7c6f564dfe  Aortic enlargement         0    R10   \n",
       "4      063319de25ce7edb9b1c6b8881290140          No finding        14    R10   \n",
       "...                                 ...                 ...       ...    ...   \n",
       "67909  936fd5cff1c058d39817a08f58b72cae          No finding        14     R1   \n",
       "67910  ca7e72954550eeb610fe22bf0244b7fa          No finding        14     R1   \n",
       "67911  aa17d5312a0fb4a2939436abca7f9579          No finding        14     R8   \n",
       "67912  4b56bc6d22b192f075f13231419dfcc8        Cardiomegaly         3     R8   \n",
       "67913  5e272e3adbdaafb07a7e84a9e62b1a4c          No finding        14    R16   \n",
       "\n",
       "        x_min   y_min   x_max   y_max  \n",
       "0         NaN     NaN     NaN     NaN  \n",
       "1         NaN     NaN     NaN     NaN  \n",
       "2       691.0  1375.0  1653.0  1831.0  \n",
       "3      1264.0   743.0  1611.0  1019.0  \n",
       "4         NaN     NaN     NaN     NaN  \n",
       "...       ...     ...     ...     ...  \n",
       "67909     NaN     NaN     NaN     NaN  \n",
       "67910     NaN     NaN     NaN     NaN  \n",
       "67911     NaN     NaN     NaN     NaN  \n",
       "67912   771.0   979.0  1680.0  1311.0  \n",
       "67913     NaN     NaN     NaN     NaN  \n",
       "\n",
       "[67914 rows x 8 columns]"
      ]
     },
     "execution_count": 4,
     "metadata": {},
     "output_type": "execute_result"
    }
   ],
   "source": [
    "data"
   ]
  },
  {
   "cell_type": "code",
   "execution_count": 5,
   "id": "844e3229",
   "metadata": {
    "execution": {
     "iopub.execute_input": "2023-05-03T15:27:17.647548Z",
     "iopub.status.busy": "2023-05-03T15:27:17.647103Z",
     "iopub.status.idle": "2023-05-03T15:27:17.654208Z",
     "shell.execute_reply": "2023-05-03T15:27:17.653053Z"
    },
    "papermill": {
     "duration": 0.014278,
     "end_time": "2023-05-03T15:27:17.656644",
     "exception": false,
     "start_time": "2023-05-03T15:27:17.642366",
     "status": "completed"
    },
    "tags": []
   },
   "outputs": [],
   "source": [
    "uni_classes = np.unique(data.class_id)"
   ]
  },
  {
   "cell_type": "code",
   "execution_count": 6,
   "id": "946c86a2",
   "metadata": {
    "execution": {
     "iopub.execute_input": "2023-05-03T15:27:17.665516Z",
     "iopub.status.busy": "2023-05-03T15:27:17.665090Z",
     "iopub.status.idle": "2023-05-03T15:27:17.671907Z",
     "shell.execute_reply": "2023-05-03T15:27:17.670758Z"
    },
    "papermill": {
     "duration": 0.013812,
     "end_time": "2023-05-03T15:27:17.674062",
     "exception": false,
     "start_time": "2023-05-03T15:27:17.660250",
     "status": "completed"
    },
    "tags": []
   },
   "outputs": [
    {
     "data": {
      "text/plain": [
       "array([ 0,  1,  2,  3,  4,  5,  6,  7,  8,  9, 10, 11, 12, 13, 14])"
      ]
     },
     "execution_count": 6,
     "metadata": {},
     "output_type": "execute_result"
    }
   ],
   "source": [
    "uni_classes"
   ]
  },
  {
   "cell_type": "code",
   "execution_count": 7,
   "id": "1ae51c3d",
   "metadata": {
    "execution": {
     "iopub.execute_input": "2023-05-03T15:27:17.682861Z",
     "iopub.status.busy": "2023-05-03T15:27:17.682446Z",
     "iopub.status.idle": "2023-05-03T15:27:17.687856Z",
     "shell.execute_reply": "2023-05-03T15:27:17.686649Z"
    },
    "papermill": {
     "duration": 0.012429,
     "end_time": "2023-05-03T15:27:17.690090",
     "exception": false,
     "start_time": "2023-05-03T15:27:17.677661",
     "status": "completed"
    },
    "tags": []
   },
   "outputs": [],
   "source": [
    "output_dir = \"/kaggle/working/vinbigdata_meta\"\n",
    "if not os.path.exists(output_dir):\n",
    "    os.mkdir(output_dir)"
   ]
  },
  {
   "cell_type": "code",
   "execution_count": null,
   "id": "909d5365",
   "metadata": {
    "papermill": {
     "duration": 0.00318,
     "end_time": "2023-05-03T15:27:17.697006",
     "exception": false,
     "start_time": "2023-05-03T15:27:17.693826",
     "status": "completed"
    },
    "tags": []
   },
   "outputs": [],
   "source": []
  },
  {
   "cell_type": "code",
   "execution_count": 8,
   "id": "5f683bfb",
   "metadata": {
    "execution": {
     "iopub.execute_input": "2023-05-03T15:27:17.706087Z",
     "iopub.status.busy": "2023-05-03T15:27:17.705451Z",
     "iopub.status.idle": "2023-05-03T15:56:35.965911Z",
     "shell.execute_reply": "2023-05-03T15:56:35.963865Z"
    },
    "papermill": {
     "duration": 1758.272507,
     "end_time": "2023-05-03T15:56:35.972902",
     "exception": false,
     "start_time": "2023-05-03T15:27:17.700395",
     "status": "completed"
    },
    "tags": []
   },
   "outputs": [
    {
     "data": {
      "application/vnd.jupyter.widget-view+json": {
       "model_id": "bbe031e9e7bf49e68df180df4f883bdc",
       "version_major": 2,
       "version_minor": 0
      },
      "text/plain": [
       "  0%|          | 0/15 [00:00<?, ?it/s]"
      ]
     },
     "metadata": {},
     "output_type": "display_data"
    }
   ],
   "source": [
    "for cls in tqdm(uni_classes):\n",
    "    data_cls = data[data.class_id == cls]\n",
    "    samp = data_cls.sample(50, replace=False)\n",
    "    \n",
    "    for i, row in samp.iterrows():\n",
    "        cls_name = row.class_name\n",
    "        folder_pth = f\"{output_dir}/{cls_name}/\"\n",
    "        if not os.path.exists(folder_pth):\n",
    "            os.makedirs(folder_pth)\n",
    "        dicom2array(\"/kaggle/input/vinbigdata-chest-xray-abnormalities-detection/train\", row.image_id + \".dicom\", folder_pth)\n",
    "        \n",
    "        "
   ]
  },
  {
   "cell_type": "code",
   "execution_count": null,
   "id": "8b258af2",
   "metadata": {
    "papermill": {
     "duration": 0.003588,
     "end_time": "2023-05-03T15:56:35.981476",
     "exception": false,
     "start_time": "2023-05-03T15:56:35.977888",
     "status": "completed"
    },
    "tags": []
   },
   "outputs": [],
   "source": []
  }
 ],
 "metadata": {
  "kernelspec": {
   "display_name": "Python 3",
   "language": "python",
   "name": "python3"
  },
  "language_info": {
   "codemirror_mode": {
    "name": "ipython",
    "version": 3
   },
   "file_extension": ".py",
   "mimetype": "text/x-python",
   "name": "python",
   "nbconvert_exporter": "python",
   "pygments_lexer": "ipython3",
   "version": "3.10.10"
  },
  "papermill": {
   "default_parameters": {},
   "duration": 1771.454156,
   "end_time": "2023-05-03T15:56:37.116434",
   "environment_variables": {},
   "exception": null,
   "input_path": "__notebook__.ipynb",
   "output_path": "__notebook__.ipynb",
   "parameters": {},
   "start_time": "2023-05-03T15:27:05.662278",
   "version": "2.4.0"
  },
  "widgets": {
   "application/vnd.jupyter.widget-state+json": {
    "state": {
     "0e0196c6e3134ca8a484c5597bcc0acc": {
      "model_module": "@jupyter-widgets/controls",
      "model_module_version": "1.5.0",
      "model_name": "DescriptionStyleModel",
      "state": {
       "_model_module": "@jupyter-widgets/controls",
       "_model_module_version": "1.5.0",
       "_model_name": "DescriptionStyleModel",
       "_view_count": null,
       "_view_module": "@jupyter-widgets/base",
       "_view_module_version": "1.2.0",
       "_view_name": "StyleView",
       "description_width": ""
      }
     },
     "2bac9ce0d85a401eaf06b8807bad6f2d": {
      "model_module": "@jupyter-widgets/base",
      "model_module_version": "1.2.0",
      "model_name": "LayoutModel",
      "state": {
       "_model_module": "@jupyter-widgets/base",
       "_model_module_version": "1.2.0",
       "_model_name": "LayoutModel",
       "_view_count": null,
       "_view_module": "@jupyter-widgets/base",
       "_view_module_version": "1.2.0",
       "_view_name": "LayoutView",
       "align_content": null,
       "align_items": null,
       "align_self": null,
       "border": null,
       "bottom": null,
       "display": null,
       "flex": null,
       "flex_flow": null,
       "grid_area": null,
       "grid_auto_columns": null,
       "grid_auto_flow": null,
       "grid_auto_rows": null,
       "grid_column": null,
       "grid_gap": null,
       "grid_row": null,
       "grid_template_areas": null,
       "grid_template_columns": null,
       "grid_template_rows": null,
       "height": null,
       "justify_content": null,
       "justify_items": null,
       "left": null,
       "margin": null,
       "max_height": null,
       "max_width": null,
       "min_height": null,
       "min_width": null,
       "object_fit": null,
       "object_position": null,
       "order": null,
       "overflow": null,
       "overflow_x": null,
       "overflow_y": null,
       "padding": null,
       "right": null,
       "top": null,
       "visibility": null,
       "width": null
      }
     },
     "2c8bfa9ff14d4b289846c885d8037cd8": {
      "model_module": "@jupyter-widgets/base",
      "model_module_version": "1.2.0",
      "model_name": "LayoutModel",
      "state": {
       "_model_module": "@jupyter-widgets/base",
       "_model_module_version": "1.2.0",
       "_model_name": "LayoutModel",
       "_view_count": null,
       "_view_module": "@jupyter-widgets/base",
       "_view_module_version": "1.2.0",
       "_view_name": "LayoutView",
       "align_content": null,
       "align_items": null,
       "align_self": null,
       "border": null,
       "bottom": null,
       "display": null,
       "flex": null,
       "flex_flow": null,
       "grid_area": null,
       "grid_auto_columns": null,
       "grid_auto_flow": null,
       "grid_auto_rows": null,
       "grid_column": null,
       "grid_gap": null,
       "grid_row": null,
       "grid_template_areas": null,
       "grid_template_columns": null,
       "grid_template_rows": null,
       "height": null,
       "justify_content": null,
       "justify_items": null,
       "left": null,
       "margin": null,
       "max_height": null,
       "max_width": null,
       "min_height": null,
       "min_width": null,
       "object_fit": null,
       "object_position": null,
       "order": null,
       "overflow": null,
       "overflow_x": null,
       "overflow_y": null,
       "padding": null,
       "right": null,
       "top": null,
       "visibility": null,
       "width": null
      }
     },
     "4d5c5a0b384f4b0888dcdd7452c7143a": {
      "model_module": "@jupyter-widgets/controls",
      "model_module_version": "1.5.0",
      "model_name": "ProgressStyleModel",
      "state": {
       "_model_module": "@jupyter-widgets/controls",
       "_model_module_version": "1.5.0",
       "_model_name": "ProgressStyleModel",
       "_view_count": null,
       "_view_module": "@jupyter-widgets/base",
       "_view_module_version": "1.2.0",
       "_view_name": "StyleView",
       "bar_color": null,
       "description_width": ""
      }
     },
     "799fff2a66a94f6d89e760c1819820f9": {
      "model_module": "@jupyter-widgets/controls",
      "model_module_version": "1.5.0",
      "model_name": "FloatProgressModel",
      "state": {
       "_dom_classes": [],
       "_model_module": "@jupyter-widgets/controls",
       "_model_module_version": "1.5.0",
       "_model_name": "FloatProgressModel",
       "_view_count": null,
       "_view_module": "@jupyter-widgets/controls",
       "_view_module_version": "1.5.0",
       "_view_name": "ProgressView",
       "bar_style": "success",
       "description": "",
       "description_tooltip": null,
       "layout": "IPY_MODEL_2c8bfa9ff14d4b289846c885d8037cd8",
       "max": 15.0,
       "min": 0.0,
       "orientation": "horizontal",
       "style": "IPY_MODEL_4d5c5a0b384f4b0888dcdd7452c7143a",
       "value": 15.0
      }
     },
     "a9704bdff7854588af68c55871b47bac": {
      "model_module": "@jupyter-widgets/base",
      "model_module_version": "1.2.0",
      "model_name": "LayoutModel",
      "state": {
       "_model_module": "@jupyter-widgets/base",
       "_model_module_version": "1.2.0",
       "_model_name": "LayoutModel",
       "_view_count": null,
       "_view_module": "@jupyter-widgets/base",
       "_view_module_version": "1.2.0",
       "_view_name": "LayoutView",
       "align_content": null,
       "align_items": null,
       "align_self": null,
       "border": null,
       "bottom": null,
       "display": null,
       "flex": null,
       "flex_flow": null,
       "grid_area": null,
       "grid_auto_columns": null,
       "grid_auto_flow": null,
       "grid_auto_rows": null,
       "grid_column": null,
       "grid_gap": null,
       "grid_row": null,
       "grid_template_areas": null,
       "grid_template_columns": null,
       "grid_template_rows": null,
       "height": null,
       "justify_content": null,
       "justify_items": null,
       "left": null,
       "margin": null,
       "max_height": null,
       "max_width": null,
       "min_height": null,
       "min_width": null,
       "object_fit": null,
       "object_position": null,
       "order": null,
       "overflow": null,
       "overflow_x": null,
       "overflow_y": null,
       "padding": null,
       "right": null,
       "top": null,
       "visibility": null,
       "width": null
      }
     },
     "b45ba5a92bd8467db89959b41357da96": {
      "model_module": "@jupyter-widgets/base",
      "model_module_version": "1.2.0",
      "model_name": "LayoutModel",
      "state": {
       "_model_module": "@jupyter-widgets/base",
       "_model_module_version": "1.2.0",
       "_model_name": "LayoutModel",
       "_view_count": null,
       "_view_module": "@jupyter-widgets/base",
       "_view_module_version": "1.2.0",
       "_view_name": "LayoutView",
       "align_content": null,
       "align_items": null,
       "align_self": null,
       "border": null,
       "bottom": null,
       "display": null,
       "flex": null,
       "flex_flow": null,
       "grid_area": null,
       "grid_auto_columns": null,
       "grid_auto_flow": null,
       "grid_auto_rows": null,
       "grid_column": null,
       "grid_gap": null,
       "grid_row": null,
       "grid_template_areas": null,
       "grid_template_columns": null,
       "grid_template_rows": null,
       "height": null,
       "justify_content": null,
       "justify_items": null,
       "left": null,
       "margin": null,
       "max_height": null,
       "max_width": null,
       "min_height": null,
       "min_width": null,
       "object_fit": null,
       "object_position": null,
       "order": null,
       "overflow": null,
       "overflow_x": null,
       "overflow_y": null,
       "padding": null,
       "right": null,
       "top": null,
       "visibility": null,
       "width": null
      }
     },
     "bbe031e9e7bf49e68df180df4f883bdc": {
      "model_module": "@jupyter-widgets/controls",
      "model_module_version": "1.5.0",
      "model_name": "HBoxModel",
      "state": {
       "_dom_classes": [],
       "_model_module": "@jupyter-widgets/controls",
       "_model_module_version": "1.5.0",
       "_model_name": "HBoxModel",
       "_view_count": null,
       "_view_module": "@jupyter-widgets/controls",
       "_view_module_version": "1.5.0",
       "_view_name": "HBoxView",
       "box_style": "",
       "children": [
        "IPY_MODEL_d15eb7e513bb47869290446be845ae7c",
        "IPY_MODEL_799fff2a66a94f6d89e760c1819820f9",
        "IPY_MODEL_f0325c3a758944388de4820ae37a5138"
       ],
       "layout": "IPY_MODEL_2bac9ce0d85a401eaf06b8807bad6f2d"
      }
     },
     "ca7fdcecab034d149b799a08694e3eb8": {
      "model_module": "@jupyter-widgets/controls",
      "model_module_version": "1.5.0",
      "model_name": "DescriptionStyleModel",
      "state": {
       "_model_module": "@jupyter-widgets/controls",
       "_model_module_version": "1.5.0",
       "_model_name": "DescriptionStyleModel",
       "_view_count": null,
       "_view_module": "@jupyter-widgets/base",
       "_view_module_version": "1.2.0",
       "_view_name": "StyleView",
       "description_width": ""
      }
     },
     "d15eb7e513bb47869290446be845ae7c": {
      "model_module": "@jupyter-widgets/controls",
      "model_module_version": "1.5.0",
      "model_name": "HTMLModel",
      "state": {
       "_dom_classes": [],
       "_model_module": "@jupyter-widgets/controls",
       "_model_module_version": "1.5.0",
       "_model_name": "HTMLModel",
       "_view_count": null,
       "_view_module": "@jupyter-widgets/controls",
       "_view_module_version": "1.5.0",
       "_view_name": "HTMLView",
       "description": "",
       "description_tooltip": null,
       "layout": "IPY_MODEL_a9704bdff7854588af68c55871b47bac",
       "placeholder": "​",
       "style": "IPY_MODEL_0e0196c6e3134ca8a484c5597bcc0acc",
       "value": "100%"
      }
     },
     "f0325c3a758944388de4820ae37a5138": {
      "model_module": "@jupyter-widgets/controls",
      "model_module_version": "1.5.0",
      "model_name": "HTMLModel",
      "state": {
       "_dom_classes": [],
       "_model_module": "@jupyter-widgets/controls",
       "_model_module_version": "1.5.0",
       "_model_name": "HTMLModel",
       "_view_count": null,
       "_view_module": "@jupyter-widgets/controls",
       "_view_module_version": "1.5.0",
       "_view_name": "HTMLView",
       "description": "",
       "description_tooltip": null,
       "layout": "IPY_MODEL_b45ba5a92bd8467db89959b41357da96",
       "placeholder": "​",
       "style": "IPY_MODEL_ca7fdcecab034d149b799a08694e3eb8",
       "value": " 15/15 [29:18&lt;00:00, 117.21s/it]"
      }
     }
    },
    "version_major": 2,
    "version_minor": 0
   }
  }
 },
 "nbformat": 4,
 "nbformat_minor": 5
}
