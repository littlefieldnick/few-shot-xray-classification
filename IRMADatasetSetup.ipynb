{
 "cells": [
  {
   "cell_type": "code",
   "execution_count": null,
   "id": "72b73d44-f603-4fb0-967c-f18beae7e69d",
   "metadata": {},
   "outputs": [],
   "source": [
    "import numpy as np\n",
    "import pandas as pd"
   ]
  },
  {
   "cell_type": "code",
   "execution_count": null,
   "id": "f5643e94-df5f-498b-9e93-b362137b3604",
   "metadata": {},
   "outputs": [],
   "source": [
    "from pathlib import Path\n",
    "from typing import Dict\n",
    "\n",
    "import pandas as pd\n",
    "from PIL import Image\n",
    "\n",
    "\n",
    "class Irma:\n",
    "    \"\"\"This is the IRMA data set.\n",
    "\n",
    "    Paper\n",
    "    -----\n",
    "    Lehmann, T. M., Schubert, H., Keysers, D., Kohnen, M., & Wein, B. B.,\n",
    "    The IRMA code for unique classification of medical images,\n",
    "    In, Medical Imaging 2003: PACS and Integrated Medical Information Systems:\n",
    "    Design and Evaluation (pp. 440–451) (2003). : International Society for Optics and Photonics.\n",
    "\n",
    "    https://www.kaggle.com/raddar/irma-xray-dataset\n",
    "    \"\"\"\n",
    "\n",
    "    def __init__(self, root, *args, **kwargs):\n",
    "        self.data_dir = Path(root)\n",
    "        \n",
    "    def load(self):\n",
    "        self.train_labels_path = self.data_dir / \"ImageCLEFmed2009_train_codes.02.csv\"\n",
    "        self.train_images_path = self.data_dir / \"ImageCLEFmed2009_train.02\"\n",
    "\n",
    "        df = pd.read_csv(self.train_labels_path, delimiter=\";\")\n",
    "        df.loc[:, \"Path\"] = df[\"image_id\"].apply(self._get_image_path)\n",
    "        df.loc[:, \"irma_code\"] = df[\"irma_code\"].apply(lambda x: x.replace(\"-\", \"\"))\n",
    "        df.loc[:, \"TechnicalCode\"] = df[\"irma_code\"].apply(self._get_technical_code)\n",
    "        df.loc[:, \"ImagingModality\"] = df[\"TechnicalCode\"].apply(self._get_imaging_modality)\n",
    "        df.loc[:, \"DirectionalCode\"] = df[\"irma_code\"].apply(self._get_directional_code)\n",
    "        df.loc[:, \"ImagingOrientation\"] = df[\"DirectionalCode\"].apply(self._get_imaging_orientation)\n",
    "        df.loc[:, \"AnatomicalCode\"] = df[\"irma_code\"].apply(self._get_anatomical_code)\n",
    "        df.loc[:, \"BodyRegion\"] = df[\"AnatomicalCode\"].apply(self._get_body_region)\n",
    "        self.df = df\n",
    "\n",
    "    def load_image(self, path: str) -> Image:\n",
    "        \"\"\"Cache and load an image.\"\"\"\n",
    "        return Image.open(path).convert(\"RGB\")\n",
    "\n",
    "    def _get_image_path(self, image_id: str) -> str:\n",
    "        return self.train_images_path / f\"{image_id}.png\"\n",
    "\n",
    "    def _get_technical_code(self, irma_code: str) -> str:\n",
    "        return irma_code[:3]\n",
    "\n",
    "    def _get_imaging_modality(self, technical_code: str):\n",
    "        first, second, third = technical_code\n",
    "        first_categories = {\"0\": \"unspecified\",\n",
    "                            \"1\": \"x-ray\",\n",
    "                            \"2\": \"sonography\",\n",
    "                            \"3\": \"magnetic resonance measurements\",\n",
    "                            \"4\": \"nuclear medicine\",\n",
    "                            \"5\": \"optical imaging\",\n",
    "                            \"6\": \"biophysical procedure\",\n",
    "                            \"7\": \"others\",\n",
    "                            \"8\": \"secondary digitalization\"}\n",
    "        if first in first_categories:\n",
    "            return first_categories[first]\n",
    "        return technical_code\n",
    "\n",
    "    def _get_directional_code(self, irma_code: str) -> str:\n",
    "        return irma_code[3:6]\n",
    "\n",
    "    def _get_imaging_orientation(self, directional_code: str) -> str:\n",
    "        first, second, third = directional_code\n",
    "        result = directional_code\n",
    "        if first == 0:\n",
    "            return \"unspecified\"\n",
    "        elif first == 1:\n",
    "            if second == 1:\n",
    "                return \"posteroanterior\"\n",
    "            elif second == 2:\n",
    "                return \"anteroposterior\"\n",
    "        elif first == 2:\n",
    "            if second == 1:\n",
    "                return \"lateral, right-left\"\n",
    "            elif second == 2:\n",
    "                return \"lateral, left-right\"\n",
    "        return result\n",
    "\n",
    "    def _get_anatomical_code(self, irma_code: str) -> str:\n",
    "        return irma_code[6:9]\n",
    "\n",
    "    def _get_body_region(self, anatomical_code: str) -> str:\n",
    "        first, second, third = anatomical_code\n",
    "        first_categories = {\n",
    "            \"1\": \"whole body\",\n",
    "            \"2\": \"cranium\",\n",
    "            \"3\": \"spine\",\n",
    "            \"4\": \"upper extremity/arm\",\n",
    "            \"5\": \"chest\",\n",
    "            \"6\": \"breast\",\n",
    "            \"7\": \"abdomen\",\n",
    "            \"8\": \"pelvis\",\n",
    "            \"9\": \"lower extremity\"\n",
    "        }\n",
    "        if first in first_categories:\n",
    "            if second == \"5\":\n",
    "                chest_categories = {\n",
    "                    \"0\": \"chest\",\n",
    "                    \"1\": \"chest/bones\",\n",
    "                    \"2\": \"chest/lung\",\n",
    "                    \"3\": \"chest/hilum\",\n",
    "                    \"4\": \"chest/mediastinum\",\n",
    "                    \"5\": \"chest/heart\",\n",
    "                    \"6\": \"chest/diaphragm\"\n",
    "                }\n",
    "                return chest_categories[second]\n",
    "            return first_categories[first]\n",
    "        return anatomical_code"
   ]
  },
  {
   "cell_type": "code",
   "execution_count": null,
   "id": "9125898b-36e8-42aa-905a-6e46c924f5dd",
   "metadata": {},
   "outputs": [],
   "source": [
    "irma = Irma(\"/home/nickolas.littlefield/netstore1/ImageCLEFmed2009_train.02/\")"
   ]
  },
  {
   "cell_type": "code",
   "execution_count": null,
   "id": "7413eec3-526b-412b-895d-602371a93cee",
   "metadata": {},
   "outputs": [],
   "source": [
    "irma.load()"
   ]
  },
  {
   "cell_type": "code",
   "execution_count": null,
   "id": "82bd1354-6680-4a18-999e-e6a7bebecd20",
   "metadata": {},
   "outputs": [],
   "source": [
    "irma.df.BodyRegion.unique()"
   ]
  },
  {
   "cell_type": "code",
   "execution_count": null,
   "id": "eab25d8d-4e16-4caa-8192-5141921c6836",
   "metadata": {},
   "outputs": [],
   "source": [
    "filtered = irma.df"
   ]
  },
  {
   "cell_type": "code",
   "execution_count": null,
   "id": "8cd33c19-fdeb-4c91-b078-9e835b6b2283",
   "metadata": {},
   "outputs": [],
   "source": [
    "cls, filtered_cnts = np.unique(filtered.BodyRegion, return_counts=True)"
   ]
  },
  {
   "cell_type": "code",
   "execution_count": null,
   "id": "14b35261-259e-478e-af2a-cf5f18c2e868",
   "metadata": {},
   "outputs": [],
   "source": [
    "rmv = [cls for cls, cnts in zip(cls, filtered_cnts) if cnts < 10]\n",
    "filtered = filtered[~filtered.BodyRegion.isin(rmv)]"
   ]
  },
  {
   "cell_type": "code",
   "execution_count": null,
   "id": "63ea1858-849c-4756-9bd7-ca9db2a0ddf9",
   "metadata": {},
   "outputs": [],
   "source": []
  },
  {
   "cell_type": "code",
   "execution_count": null,
   "id": "dfec5063-4536-4a54-8824-d6d3a0ce9055",
   "metadata": {},
   "outputs": [],
   "source": [
    "filtered.loc[:, \"Target\"] = 0\n",
    "for i, cls in enumerate(np.unique(filtered.BodyRegion)):\n",
    "    filtered.loc[filtered.BodyRegion == cls, \"Target\"] = i"
   ]
  },
  {
   "cell_type": "code",
   "execution_count": null,
   "id": "dd3e00e7-0992-4907-a00c-01f70420809d",
   "metadata": {},
   "outputs": [],
   "source": [
    "filtered"
   ]
  },
  {
   "cell_type": "code",
   "execution_count": null,
   "id": "940893db-492d-4a6f-af89-c5b3373a1be7",
   "metadata": {},
   "outputs": [],
   "source": [
    "filtered.to_csv(\"/home/nickolas.littlefield/netstore1/ImageCLEFmed2009_train.02/meta_testing.csv\", index=False)"
   ]
  },
  {
   "cell_type": "code",
   "execution_count": null,
   "id": "e98227b1-b835-4d56-be91-e57b60f76af2",
   "metadata": {},
   "outputs": [],
   "source": []
  }
 ],
 "metadata": {
  "kernelspec": {
   "display_name": "learn2learn",
   "language": "python",
   "name": "few-shot"
  },
  "language_info": {
   "codemirror_mode": {
    "name": "ipython",
    "version": 3
   },
   "file_extension": ".py",
   "mimetype": "text/x-python",
   "name": "python",
   "nbconvert_exporter": "python",
   "pygments_lexer": "ipython3",
   "version": "3.10.11"
  }
 },
 "nbformat": 4,
 "nbformat_minor": 5
}
