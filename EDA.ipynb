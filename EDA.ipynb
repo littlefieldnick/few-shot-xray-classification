{
 "cells": [
  {
   "cell_type": "code",
   "execution_count": null,
   "id": "26ef2fe7-675f-4814-971e-647509ec96bd",
   "metadata": {},
   "outputs": [],
   "source": [
    "import numpy as np\n",
    "import pandas as pd\n",
    "\n",
    "from PIL import Image\n",
    "import matplotlib.pyplot as plt"
   ]
  },
  {
   "cell_type": "code",
   "execution_count": null,
   "id": "5384a7e6-378a-4bca-82e5-381ffc4e4f42",
   "metadata": {},
   "outputs": [],
   "source": [
    "class_labels = list(range(0, 22))\n",
    "class_labels.remove(4)\n",
    "class_labels.remove(19)"
   ]
  },
  {
   "cell_type": "code",
   "execution_count": null,
   "id": "80da3e3d-f2dc-4403-b4d9-7c8a9621d787",
   "metadata": {},
   "outputs": [],
   "source": [
    "labels = {\n",
    "    \"Abdomen\": 0,\n",
    "    \"Ankle\": 1,\n",
    "    \"Cervical Spine\": 2,\n",
    "    \"Chest\": 3,\n",
    "    \"Clavicles\": 4,\n",
    "    \"Elbow\": 5,\n",
    "    \"Feet\": 6,\n",
    "    \"Finger\": 7,\n",
    "    \"Forearm\": 8,\n",
    "    \"Hand\": 9,\n",
    "    \"Hip\": 10, \n",
    "    \"Knee\": 11,\n",
    "    \"Lower Leg\": 12,\n",
    "    \"Lumbar Spine\": 13,\n",
    "    \"Others\": 14,\n",
    "    \"Pelvis\": 15,\n",
    "    \"Shoulder\": 16,\n",
    "    \"Sinus\": 17,\n",
    "    \"Skull\": 18,\n",
    "    \"Thigh\": 19,\n",
    "    \"Thoracic Spine\": 20,\n",
    "    \"Wrist\": 21\n",
    "}\n",
    "\n",
    "cls2lbl = {value:key for key, value in labels.items()}"
   ]
  },
  {
   "cell_type": "code",
   "execution_count": null,
   "id": "5ae7ad17-a4dc-4b53-8e7b-ccc639548333",
   "metadata": {},
   "outputs": [],
   "source": [
    "data = pd.read_csv(\"/home/nickolas.littlefield/netstore1/unifesp-x-ray-body-part-classifier/train_merged.csv\")"
   ]
  },
  {
   "cell_type": "code",
   "execution_count": null,
   "id": "0f5e674e-91c4-4531-b0c3-9adbd9821fc5",
   "metadata": {},
   "outputs": [],
   "source": [
    "data = data[data.Target.isin(class_labels)]"
   ]
  },
  {
   "cell_type": "code",
   "execution_count": null,
   "id": "ed3886bd-a4de-4f9f-88f3-93043a7f6bbb",
   "metadata": {},
   "outputs": [],
   "source": [
    "ncol = 4\n",
    "nrow = 5\n",
    "fig, axes = plt.subplots(ncols=ncol, nrows=nrow, figsize=(20,20))\n",
    "classes = data.Target.unique()\n",
    "i=0\n",
    "for row in range(nrow):\n",
    "    for col in range(ncol):\n",
    "        if (row + 1)*(col+1) > len(classes):\n",
    "            break\n",
    "        \n",
    "        cls = classes[i]\n",
    "        cls_data = data[data.Target == cls]\n",
    "        samp = cls_data.sample(1)\n",
    "        img = Image.open(samp.fname.values[0])\n",
    "        axes[row, col].imshow(img, cmap=\"gray\")\n",
    "        axes[row, col].set_title(cls2lbl[samp.Target.values[0]])\n",
    "        i+=1\n",
    "plt.show()\n"
   ]
  },
  {
   "cell_type": "code",
   "execution_count": null,
   "id": "deba0d91-12b0-42ba-a4de-dc761e33887f",
   "metadata": {},
   "outputs": [],
   "source": [
    "data.columns"
   ]
  },
  {
   "cell_type": "code",
   "execution_count": null,
   "id": "ca2fd1ba-aa92-4e80-962d-2ebfda015f62",
   "metadata": {},
   "outputs": [],
   "source": []
  }
 ],
 "metadata": {
  "kernelspec": {
   "display_name": "learn2learn",
   "language": "python",
   "name": "few-shot"
  },
  "language_info": {
   "codemirror_mode": {
    "name": "ipython",
    "version": 3
   },
   "file_extension": ".py",
   "mimetype": "text/x-python",
   "name": "python",
   "nbconvert_exporter": "python",
   "pygments_lexer": "ipython3",
   "version": "3.10.11"
  }
 },
 "nbformat": 4,
 "nbformat_minor": 5
}
